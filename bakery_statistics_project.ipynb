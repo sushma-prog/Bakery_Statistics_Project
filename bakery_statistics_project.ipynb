{
 "cells": [
  {
   "cell_type": "code",
   "execution_count": 2,
   "id": "76d02705-2fab-483b-8403-958d33dd14d9",
   "metadata": {},
   "outputs": [],
   "source": [
    "import pandas as pd"
   ]
  },
  {
   "cell_type": "markdown",
   "id": "d3d6a3ae-7262-4c2f-a4ed-f749cda57a34",
   "metadata": {},
   "source": [
    "**Load the Data**"
   ]
  },
  {
   "cell_type": "code",
   "execution_count": 3,
   "id": "1a56dae9-8bd4-47da-b06a-3994fe7a4078",
   "metadata": {},
   "outputs": [],
   "source": [
    "df = pd.read_csv(\"bakery_sales.csv\")"
   ]
  },
  {
   "cell_type": "code",
   "execution_count": 4,
   "id": "3edd2f3c-b5b0-4a66-85a9-976d32604ee7",
   "metadata": {},
   "outputs": [
    {
     "data": {
      "text/html": [
       "<div>\n",
       "<style scoped>\n",
       "    .dataframe tbody tr th:only-of-type {\n",
       "        vertical-align: middle;\n",
       "    }\n",
       "\n",
       "    .dataframe tbody tr th {\n",
       "        vertical-align: top;\n",
       "    }\n",
       "\n",
       "    .dataframe thead th {\n",
       "        text-align: right;\n",
       "    }\n",
       "</style>\n",
       "<table border=\"1\" class=\"dataframe\">\n",
       "  <thead>\n",
       "    <tr style=\"text-align: right;\">\n",
       "      <th></th>\n",
       "      <th>Date</th>\n",
       "      <th>Item</th>\n",
       "      <th>Price</th>\n",
       "      <th>Quantity Sold</th>\n",
       "      <th>Total Revenue</th>\n",
       "    </tr>\n",
       "  </thead>\n",
       "  <tbody>\n",
       "    <tr>\n",
       "      <th>0</th>\n",
       "      <td>01-02-2025</td>\n",
       "      <td>Sourdough</td>\n",
       "      <td>6.0</td>\n",
       "      <td>10</td>\n",
       "      <td>60.0</td>\n",
       "    </tr>\n",
       "    <tr>\n",
       "      <th>1</th>\n",
       "      <td>01-02-2025</td>\n",
       "      <td>Brownie</td>\n",
       "      <td>3.5</td>\n",
       "      <td>1</td>\n",
       "      <td>3.5</td>\n",
       "    </tr>\n",
       "    <tr>\n",
       "      <th>2</th>\n",
       "      <td>01-02-2025</td>\n",
       "      <td>Croissant</td>\n",
       "      <td>3.0</td>\n",
       "      <td>1</td>\n",
       "      <td>3.0</td>\n",
       "    </tr>\n",
       "    <tr>\n",
       "      <th>3</th>\n",
       "      <td>01-02-2025</td>\n",
       "      <td>Croissant</td>\n",
       "      <td>3.0</td>\n",
       "      <td>6</td>\n",
       "      <td>18.0</td>\n",
       "    </tr>\n",
       "    <tr>\n",
       "      <th>4</th>\n",
       "      <td>01-02-2025</td>\n",
       "      <td>Cinnamon Roll</td>\n",
       "      <td>3.8</td>\n",
       "      <td>5</td>\n",
       "      <td>19.0</td>\n",
       "    </tr>\n",
       "  </tbody>\n",
       "</table>\n",
       "</div>"
      ],
      "text/plain": [
       "         Date           Item  Price  Quantity Sold  Total Revenue\n",
       "0  01-02-2025      Sourdough    6.0             10           60.0\n",
       "1  01-02-2025        Brownie    3.5              1            3.5\n",
       "2  01-02-2025      Croissant    3.0              1            3.0\n",
       "3  01-02-2025      Croissant    3.0              6           18.0\n",
       "4  01-02-2025  Cinnamon Roll    3.8              5           19.0"
      ]
     },
     "execution_count": 4,
     "metadata": {},
     "output_type": "execute_result"
    }
   ],
   "source": [
    "#Display first few rows \n",
    "df.head()"
   ]
  },
  {
   "cell_type": "markdown",
   "id": "fad2f3b4-1e92-4b8c-9caa-4385d79fd323",
   "metadata": {},
   "source": [
    "**Descriptive Statistics**"
   ]
  },
  {
   "cell_type": "code",
   "execution_count": 5,
   "id": "73abcde2-24cd-4975-9a22-b0fe7bed55af",
   "metadata": {},
   "outputs": [
    {
     "data": {
      "text/html": [
       "<div>\n",
       "<style scoped>\n",
       "    .dataframe tbody tr th:only-of-type {\n",
       "        vertical-align: middle;\n",
       "    }\n",
       "\n",
       "    .dataframe tbody tr th {\n",
       "        vertical-align: top;\n",
       "    }\n",
       "\n",
       "    .dataframe thead th {\n",
       "        text-align: right;\n",
       "    }\n",
       "</style>\n",
       "<table border=\"1\" class=\"dataframe\">\n",
       "  <thead>\n",
       "    <tr style=\"text-align: right;\">\n",
       "      <th></th>\n",
       "      <th>Price</th>\n",
       "      <th>Quantity Sold</th>\n",
       "      <th>Total Revenue</th>\n",
       "    </tr>\n",
       "  </thead>\n",
       "  <tbody>\n",
       "    <tr>\n",
       "      <th>count</th>\n",
       "      <td>287.000000</td>\n",
       "      <td>287.000000</td>\n",
       "      <td>287.000000</td>\n",
       "    </tr>\n",
       "    <tr>\n",
       "      <th>mean</th>\n",
       "      <td>3.748084</td>\n",
       "      <td>5.449477</td>\n",
       "      <td>20.166202</td>\n",
       "    </tr>\n",
       "    <tr>\n",
       "      <th>std</th>\n",
       "      <td>1.202702</td>\n",
       "      <td>2.983063</td>\n",
       "      <td>13.029225</td>\n",
       "    </tr>\n",
       "    <tr>\n",
       "      <th>min</th>\n",
       "      <td>2.000000</td>\n",
       "      <td>1.000000</td>\n",
       "      <td>2.000000</td>\n",
       "    </tr>\n",
       "    <tr>\n",
       "      <th>25%</th>\n",
       "      <td>2.500000</td>\n",
       "      <td>3.000000</td>\n",
       "      <td>10.000000</td>\n",
       "    </tr>\n",
       "    <tr>\n",
       "      <th>50%</th>\n",
       "      <td>3.800000</td>\n",
       "      <td>5.000000</td>\n",
       "      <td>18.000000</td>\n",
       "    </tr>\n",
       "    <tr>\n",
       "      <th>75%</th>\n",
       "      <td>5.000000</td>\n",
       "      <td>8.000000</td>\n",
       "      <td>29.000000</td>\n",
       "    </tr>\n",
       "    <tr>\n",
       "      <th>max</th>\n",
       "      <td>6.000000</td>\n",
       "      <td>10.000000</td>\n",
       "      <td>60.000000</td>\n",
       "    </tr>\n",
       "  </tbody>\n",
       "</table>\n",
       "</div>"
      ],
      "text/plain": [
       "            Price  Quantity Sold  Total Revenue\n",
       "count  287.000000     287.000000     287.000000\n",
       "mean     3.748084       5.449477      20.166202\n",
       "std      1.202702       2.983063      13.029225\n",
       "min      2.000000       1.000000       2.000000\n",
       "25%      2.500000       3.000000      10.000000\n",
       "50%      3.800000       5.000000      18.000000\n",
       "75%      5.000000       8.000000      29.000000\n",
       "max      6.000000      10.000000      60.000000"
      ]
     },
     "execution_count": 5,
     "metadata": {},
     "output_type": "execute_result"
    }
   ],
   "source": [
    "# summery satatistics\n",
    "df.describe()"
   ]
  },
  {
   "cell_type": "code",
   "execution_count": 6,
   "id": "41ec2894-0358-46ec-b56f-bf0f976e1061",
   "metadata": {},
   "outputs": [
    {
     "name": "stdout",
     "output_type": "stream",
     "text": [
      "Top 5 Best Selling Items: \n",
      " Item\n",
      "Muffin       284\n",
      "Baguette     218\n",
      "Danish       189\n",
      "Brownie      185\n",
      "Sourdough    181\n",
      "Name: Quantity Sold, dtype: int64\n"
     ]
    }
   ],
   "source": [
    "# top 5 best selling items\n",
    "top_items = df.groupby(\"Item\")[\"Quantity Sold\"].sum().sort_values(ascending=False).head(5)\n",
    "print(\"Top 5 Best Selling Items: \\n\",top_items)"
   ]
  },
  {
   "cell_type": "markdown",
   "id": "bd723f43-ad14-469c-88dc-b549df36ecce",
   "metadata": {},
   "source": [
    "**Probability & Distribution**"
   ]
  },
  {
   "cell_type": "code",
   "execution_count": 7,
   "id": "6c48ea3f-cad9-48de-9ebf-9667dc4a0968",
   "metadata": {},
   "outputs": [
    {
     "name": "stdout",
     "output_type": "stream",
     "text": [
      "Requirement already satisfied: matplotlib in c:\\users\\lucky\\appdata\\local\\programs\\python\\python312\\lib\\site-packages (3.10.1)\n",
      "Requirement already satisfied: seaborn in c:\\users\\lucky\\appdata\\local\\programs\\python\\python312\\lib\\site-packages (0.13.2)\n",
      "Requirement already satisfied: contourpy>=1.0.1 in c:\\users\\lucky\\appdata\\local\\programs\\python\\python312\\lib\\site-packages (from matplotlib) (1.3.1)\n",
      "Requirement already satisfied: cycler>=0.10 in c:\\users\\lucky\\appdata\\local\\programs\\python\\python312\\lib\\site-packages (from matplotlib) (0.12.1)\n",
      "Requirement already satisfied: fonttools>=4.22.0 in c:\\users\\lucky\\appdata\\local\\programs\\python\\python312\\lib\\site-packages (from matplotlib) (4.56.0)\n",
      "Requirement already satisfied: kiwisolver>=1.3.1 in c:\\users\\lucky\\appdata\\local\\programs\\python\\python312\\lib\\site-packages (from matplotlib) (1.4.8)\n",
      "Requirement already satisfied: numpy>=1.23 in c:\\users\\lucky\\appdata\\local\\programs\\python\\python312\\lib\\site-packages (from matplotlib) (2.0.0)\n",
      "Requirement already satisfied: packaging>=20.0 in c:\\users\\lucky\\appdata\\roaming\\python\\python312\\site-packages (from matplotlib) (23.2)\n",
      "Requirement already satisfied: pillow>=8 in c:\\users\\lucky\\appdata\\local\\programs\\python\\python312\\lib\\site-packages (from matplotlib) (11.1.0)\n",
      "Requirement already satisfied: pyparsing>=2.3.1 in c:\\users\\lucky\\appdata\\local\\programs\\python\\python312\\lib\\site-packages (from matplotlib) (3.2.1)\n",
      "Requirement already satisfied: python-dateutil>=2.7 in c:\\users\\lucky\\appdata\\roaming\\python\\python312\\site-packages (from matplotlib) (2.9.0.post0)\n",
      "Requirement already satisfied: pandas>=1.2 in c:\\users\\lucky\\appdata\\local\\programs\\python\\python312\\lib\\site-packages (from seaborn) (2.2.2)\n",
      "Requirement already satisfied: pytz>=2020.1 in c:\\users\\lucky\\appdata\\local\\programs\\python\\python312\\lib\\site-packages (from pandas>=1.2->seaborn) (2024.1)\n",
      "Requirement already satisfied: tzdata>=2022.7 in c:\\users\\lucky\\appdata\\local\\programs\\python\\python312\\lib\\site-packages (from pandas>=1.2->seaborn) (2024.1)\n",
      "Requirement already satisfied: six>=1.5 in c:\\users\\lucky\\appdata\\roaming\\python\\python312\\site-packages (from python-dateutil>=2.7->matplotlib) (1.16.0)\n",
      "Note: you may need to restart the kernel to use updated packages.\n"
     ]
    },
    {
     "name": "stderr",
     "output_type": "stream",
     "text": [
      "\n",
      "[notice] A new release of pip is available: 24.2 -> 25.0.1\n",
      "[notice] To update, run: python.exe -m pip install --upgrade pip\n"
     ]
    }
   ],
   "source": [
    "pip install matplotlib seaborn\n"
   ]
  },
  {
   "cell_type": "code",
   "execution_count": 8,
   "id": "b235fbb2-990c-40ed-862c-bd7eb99ba6aa",
   "metadata": {},
   "outputs": [
    {
     "data": {
      "image/png": "[encoded data removed]",
      "text/plain": [
       "<Figure size 800x500 with 1 Axes>"
      ]
     },
     "metadata": {},
     "output_type": "display_data"
    }
   ],
   "source": [
    "import matplotlib.pyplot as plt\n",
    "import seaborn as sns\n",
    "\n",
    "# Plot Histogram of Total Revenue\n",
    "plt.figure(figsize=(8,5))\n",
    "sns.histplot(df[\"Total Revenue\"], bins=30, kde=True)\n",
    "plt.title(\"Distribution of Total Revenue\")\n",
    "plt.show()"
   ]
  },
  {
   "cell_type": "markdown",
   "id": "1e1c3abb-a6f5-4a51-8071-0e7a09d0947c",
   "metadata": {},
   "source": [
    "**Hypothesis Testing**"
   ]
  },
  {
   "cell_type": "code",
   "execution_count": 9,
   "id": "d542b34e-9548-4e9e-ad65-59fae9b6ae68",
   "metadata": {},
   "outputs": [
    {
     "name": "stdout",
     "output_type": "stream",
     "text": [
      "T-test result: t-statistic=-1.5773467989309775, p-value=0.11592236057257084\n",
      "No significant difference between weekend and weekday sales.\n"
     ]
    }
   ],
   "source": [
    "from scipy.stats import ttest_ind\n",
    "\n",
    "#Convert Date to Weekday (0=Monday, 6=Sunday)\n",
    "df[\"Date\"] = pd.to_datetime(df[\"Date\"], dayfirst=True, errors='coerce')  # Convert to datetime format\n",
    "df[\"Weekday\"] = df[\"Date\"].dt.weekday  # Extract weekday (0=Monday, 6=Sunday)\n",
    "\n",
    "#Separating Weekend and Weekday Sales\n",
    "weekend_sales = df[df[\"Weekday\"] >= 5][\"Total Revenue\"]\n",
    "weekday_sales = df[df[\"Weekday\"] < 5][\"Total Revenue\"]\n",
    "\n",
    "#Performing the T-test\n",
    "t_stat, p_value = ttest_ind(weekend_sales, weekday_sales)\n",
    "\n",
    "#Printing the Results\n",
    "print(f\"T-test result: t-statistic={t_stat}, p-value={p_value}\")\n",
    "\n",
    "#Interpreting the Results\n",
    "if p_value < 0.05:\n",
    "    print(\"Weekend sales are significantly higher than weekday sales.\")\n",
    "else:\n",
    "    print(\"No significant difference between weekend and weekday sales.\")\n"
   ]
  },
  {
   "cell_type": "markdown",
   "id": "62a6d754-dd87-41ed-97b9-f1a3b6235667",
   "metadata": {},
   "source": [
    "**Correlation & Regression**"
   ]
  },
  {
   "cell_type": "code",
   "execution_count": 17,
   "id": "b2355b0b-8155-414e-8dac-954e217feef3",
   "metadata": {},
   "outputs": [
    {
     "name": "stdout",
     "output_type": "stream",
     "text": [
      "Correlation between Price and Quantity Sold : -0.07241338208382125\n",
      "        Date           Item  Price  Quantity Sold  Total Revenue  Weekday  \\\n",
      "0 2025-02-01      Sourdough    6.0             10           60.0      5.0   \n",
      "1 2025-02-01        Brownie    3.5              1            3.5      5.0   \n",
      "2 2025-02-01      Croissant    3.0              1            3.0      5.0   \n",
      "3 2025-02-01      Croissant    3.0              6           18.0      5.0   \n",
      "4 2025-02-01  Cinnamon Roll    3.8              5           19.0      5.0   \n",
      "\n",
      "   Predicted Revenue  \n",
      "0          31.220808  \n",
      "1          18.948365  \n",
      "2          16.493877  \n",
      "3          16.493877  \n",
      "4          20.421058  \n"
     ]
    }
   ],
   "source": [
    "from sklearn.linear_model import LinearRegression\n",
    "\n",
    "#calculate correlation\n",
    "correlation = df[\"Price\"].corr(df[\"Quantity Sold\"])\n",
    "print(f\"Correlation between Price and Quantity Sold : {correlation}\")\n",
    "\n",
    "#build linear regression model\n",
    "X = df[[\"Price\"]]\n",
    "y = df[\"Total Revenue\"]\n",
    "\n",
    "model = LinearRegression()\n",
    "model.fit(X,y)\n",
    "\n",
    "#predict and check results\n",
    "df[\"Predicted Revenue\"] = model.predict(X)\n",
    "print(df.head())"
   ]
  },
  {
   "cell_type": "code",
   "execution_count": null,
   "id": "3ee0ed20-66ea-4a6d-89f7-d6c7c7eeebe2",
   "metadata": {},
   "outputs": [],
   "source": []
  }
 ],
 "metadata": {
  "kernelspec": {
   "display_name": "Python 3 (ipykernel)",
   "language": "python",
   "name": "python3"
  },
  "language_info": {
   "codemirror_mode": {
    "name": "ipython",
    "version": 3
   },
   "file_extension": ".py",
   "mimetype": "text/x-python",
   "name": "python",
   "nbconvert_exporter": "python",
   "pygments_lexer": "ipython3",
   "version": "3.12.4"
  }
 },
 "nbformat": 4,
 "nbformat_minor": 5
}
